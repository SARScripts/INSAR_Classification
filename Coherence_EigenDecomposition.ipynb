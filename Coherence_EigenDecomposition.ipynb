{
 "cells": [
  {
   "cell_type": "code",
   "execution_count": null,
   "metadata": {
    "scrolled": true
   },
   "outputs": [],
   "source": [
    "import time\n",
    "import inout\n",
    "\n",
    "start = time.time()\n",
    "\n",
    "# Interface to load from T0 to TN both in Master and Slave time (-->square Covariance matrices)\n",
    "\n",
    "selSet = \"WWIELKOPOLSKA_4x19_UTM\"\n",
    "dateT0 = \"2017-01-01\"\n",
    "dateTN = \"2017-04-01\"\n",
    "\n",
    "dateTAG = '2017Q1_N'\n",
    "\n",
    "odir = './'\n",
    "\n",
    "inout.print_coverages()\n",
    "\n",
    "print(\"Selected data set: \" + selSet)\n",
    "print(\"  Initial date: \" + dateT0 + \" End date: \" + dateTN)\n"
   ]
  },
  {
   "cell_type": "code",
   "execution_count": null,
   "metadata": {},
   "outputs": [],
   "source": [
    "import inout \n",
    "\n",
    "geo_proj = inout.getProjection(selSet)\n",
    "geo_transf = inout.getGeoTransform(selSet)\n",
    "\n",
    "print(geo_transf)"
   ]
  },
  {
   "cell_type": "code",
   "execution_count": null,
   "metadata": {
    "scrolled": true
   },
   "outputs": [],
   "source": [
    "\n",
    "ncdata = inout.loadSqData(selSet, dateT0, dateTN)\n",
    "\n",
    "load_end = time.time()\n",
    "print('Elapsed time loading: ')\n",
    "print(load_end - start)\n",
    "\n"
   ]
  },
  {
   "cell_type": "code",
   "execution_count": null,
   "metadata": {
    "collapsed": true,
    "scrolled": false
   },
   "outputs": [],
   "source": [
    "# plot one image from each of the two variables into a subplot for direct comparison.\n",
    "import numpy as np\n",
    "\n",
    "%matplotlib inline\n",
    "from matplotlib import pyplot as plt\n",
    "from matplotlib import colors\n",
    "\n",
    "coh_vh = ncdata['Coherence_VH'][0][0][:][:].values.astype(np.float)\n",
    "coh_vv = ncdata['Coherence_VV'][0][0][:][:].values.astype(np.float)\n",
    "\n",
    "\n",
    "f, axarr = plt.subplots(1, 2, sharey=True, sharex=True)\n",
    "f.set_figheight(7)\n",
    "f.set_figwidth(15)\n",
    "# orient the data correctly, since netcdf has a different representation of the spatial coordinates.\n",
    "axarr[0].imshow(np.flipud(np.rot90(coh_vh)), cmap='jet')\n",
    "axarr[0].set_title('Coherence VH')\n",
    "axarr[1].imshow(np.flipud(np.rot90(coh_vv)), cmap='jet')\n",
    "axarr[1].set_title('Coherence VV')\n"
   ]
  },
  {
   "cell_type": "code",
   "execution_count": null,
   "metadata": {
    "collapsed": true
   },
   "outputs": [],
   "source": [
    "import datetime \n",
    "\n",
    "coh_vv.shape\n",
    "master_dates = ncdata.coords['master_date'].values\n",
    "slave_dates = ncdata.coords['slave_date'].values\n",
    "\n",
    "mdates = []\n",
    "sdates = []\n",
    "for dd in ncdata.coords['master_date'].values:\n",
    "        mdates.append(datetime.datetime.fromtimestamp(int(dd)))#.strftime('%Y-%m-%d'))\n",
    "for dd in ncdata.coords['slave_date'].values:\n",
    "        sdates.append(datetime.datetime.fromtimestamp(int(dd)))#.strftime('%Y-%m-%d'))\n",
    "\n",
    "print(mdates)\n",
    "print(sdates)\n",
    "\n"
   ]
  },
  {
   "cell_type": "code",
   "execution_count": null,
   "metadata": {
    "collapsed": true
   },
   "outputs": [],
   "source": [
    "from numpy import linalg as LA\n",
    "\n",
    "eigen_start = time.time()\n",
    "\n",
    "# ----------------------------------------------------------------------\n",
    "# ----------------------------------------------------------------------\n",
    "# Compute eigendecomposition over the whole scene ----------------------\n",
    "# ----------------------------------------------------------------------\n",
    "# ----------------------------------------------------------------------\n",
    "\n",
    "coh_vv = ncdata['Coherence_VV'].values.astype(np.float)\n",
    "coh_vh = ncdata['Coherence_VH'].values.astype(np.float)\n",
    "\n",
    "[mm,ss]       = coh_vv[:,:,0,0].shape\n",
    "[nrows,ncols] = coh_vv[0,0].shape\n",
    "\n",
    "print(mm)\n",
    "print(ss)\n",
    "\n",
    "eigenValues_vv = np.ndarray([nrows,ncols,mm+1],dtype=float)\n",
    "eigenRatios_vv = np.ndarray([nrows,ncols,4],dtype=float)\n",
    "eigenValues_vh = np.ndarray([nrows,ncols,mm+1],dtype=float)\n",
    "eigenRatios_vh = np.ndarray([nrows,ncols,4],dtype=float)\n",
    "\n",
    "for ii in range(nrows):\n",
    "\n",
    "    if not ii % 100:\n",
    "        print('Row ' + str(ii) + ' / ' + str(nrows))\n",
    "    \n",
    "    for jj in range(ncols):\n",
    "\n",
    "        cc_vv  = coh_vv[:,:,ii,jj]\n",
    "        cc_vh  = coh_vh[:,:,ii,jj]\n",
    "\n",
    "        COH_VV = np.eye(mm+1,dtype=coh_vv[:,:,ii,jj].dtype)/2\n",
    "        COH_VH = np.eye(mm+1,dtype=coh_vv[:,:,ii,jj].dtype)/2\n",
    "        \n",
    "        for dd in range(mm):\n",
    "            COH_VV[dd,dd+1:] = cc_vv[dd,dd:]\n",
    "            COH_VH[dd,dd+1:] = cc_vh[dd,dd:]\n",
    "        \n",
    "        COH_VV = COH_VV + np.transpose(COH_VV)\n",
    "        COH_VH = COH_VH + np.transpose(COH_VH)\n",
    "        \n",
    "        w,v = LA.eig(COH_VV)\n",
    "        eigenValues_vv[ii,jj,:] = np.flipud(np.sort(w))\n",
    "        w,v = LA.eig(COH_VH)\n",
    "        eigenValues_vh[ii,jj,:] = np.flipud(np.sort(w))\n",
    "        \n",
    "        eigenRatios_vv[ii,jj,0] = eigenValues_vv[ii,jj,0] / sum(eigenValues_vv[ii,jj,:])\n",
    "        eigenRatios_vh[ii,jj,0] = eigenValues_vh[ii,jj,0] / sum(eigenValues_vh[ii,jj,:])\n",
    "        \n",
    "        eigenRatios_vv[ii,jj,1] = eigenValues_vv[ii,jj,0] / eigenValues_vv[ii,jj,1]\n",
    "        eigenRatios_vh[ii,jj,1] = eigenValues_vh[ii,jj,0] / eigenValues_vh[ii,jj,1]\n",
    "        \n",
    "        eigenRatios_vv[ii,jj,2] = eigenValues_vv[ii,jj,1] / eigenValues_vv[ii,jj,2]\n",
    "        eigenRatios_vh[ii,jj,2] = eigenValues_vh[ii,jj,1] / eigenValues_vh[ii,jj,2]\n",
    "        \n",
    "        eigenRatios_vv[ii,jj,3] = (eigenValues_vv[ii,jj,0]-eigenValues_vv[ii,jj,1]) / (eigenValues_vv[ii,jj,0]+eigenValues_vv[ii,jj,1])\n",
    "        eigenRatios_vh[ii,jj,3] = (eigenValues_vh[ii,jj,0]-eigenValues_vh[ii,jj,1]) / (eigenValues_vh[ii,jj,0]+eigenValues_vh[ii,jj,1])\n",
    "\n",
    "# ----------------------------------------------------------------------\n",
    "# ----------------------------------------------------------------------\n",
    "\n",
    "eigen_end = time.time()\n",
    "print('Elapsed time loading: ')\n",
    "print(eigen_end - eigen_start)\n"
   ]
  },
  {
   "cell_type": "code",
   "execution_count": null,
   "metadata": {
    "collapsed": true
   },
   "outputs": [],
   "source": [
    "# plot one image from each of the two variables into a subplot for direct comparison.\n",
    "import numpy as np\n",
    "\n",
    "%matplotlib inline\n",
    "from matplotlib import pyplot as plt\n",
    "from matplotlib import colors\n",
    "\n",
    "#eigenValues[:,:,0]\n",
    "\n",
    "f, axarr = plt.subplots(1, 5, sharey=True, sharex=True)\n",
    "f.set_figheight(7)\n",
    "f.set_figwidth(15)\n",
    "# orient the data correctly, since netcdf has a different representation of the spatial coordinates.\n",
    "axarr[0].imshow(np.flipud(np.rot90(eigenValues_vv[:,:,0])), cmap='jet',vmin=0.0, vmax=5.)\n",
    "axarr[0].set_title('Eigenvalue 1 VV')\n",
    "axarr[1].imshow(np.flipud(np.rot90(eigenValues_vv[:,:,1])), cmap='jet',vmin=0.0, vmax=4.)\n",
    "axarr[1].set_title('Eigenvalue 2 VV')\n",
    "axarr[2].imshow(np.flipud(np.rot90(eigenValues_vv[:,:,2])), cmap='jet',vmin=0.0, vmax=3.)\n",
    "axarr[2].set_title('Eigenvalue 3 VV')\n",
    "axarr[3].imshow(np.flipud(np.rot90(eigenValues_vv[:,:,3])), cmap='jet',vmin=0.0, vmax=2.)\n",
    "axarr[3].set_title('Eigenvalue 4 VV')\n",
    "axarr[4].imshow(np.flipud(np.rot90(eigenValues_vv[:,:,4])), cmap='jet',vmin=0.0, vmax=1.)\n",
    "axarr[4].set_title('Eigenvalue 5 VV')"
   ]
  },
  {
   "cell_type": "code",
   "execution_count": null,
   "metadata": {
    "collapsed": true
   },
   "outputs": [],
   "source": [
    "# plot one image from each of the two variables into a subplot for direct comparison.\n",
    "import numpy as np\n",
    "\n",
    "%matplotlib inline\n",
    "from matplotlib import pyplot as plt\n",
    "from matplotlib import colors\n",
    "\n",
    "#eigenValues[:,:,0]\n",
    "\n",
    "f, axarr = plt.subplots(1, 5, sharey=True, sharex=True)\n",
    "f.set_figheight(7)\n",
    "f.set_figwidth(15)\n",
    "# orient the data correctly, since netcdf has a different representation of the spatial coordinates.\n",
    "axarr[0].imshow(np.flipud(np.rot90(eigenValues_vh[:,:,0])), cmap='jet',vmin=0.0, vmax=3.)\n",
    "axarr[0].set_title('Eigenvalue 1 VH')\n",
    "axarr[1].imshow(np.flipud(np.rot90(eigenValues_vh[:,:,1])), cmap='jet',vmin=0.0, vmax=3.)\n",
    "axarr[1].set_title('Eigenvalue 2 VH')\n",
    "axarr[2].imshow(np.flipud(np.rot90(eigenValues_vh[:,:,2])), cmap='jet',vmin=0.0, vmax=3.)\n",
    "axarr[2].set_title('Eigenvalue 3 VH')\n",
    "axarr[3].imshow(np.flipud(np.rot90(eigenValues_vh[:,:,3])), cmap='jet',vmin=0.0, vmax=3.)\n",
    "axarr[3].set_title('Eigenvalue 4 VH')\n",
    "axarr[4].imshow(np.flipud(np.rot90(eigenValues_vh[:,:,4])), cmap='jet',vmin=0.0, vmax=3.)\n",
    "axarr[4].set_title('Eigenvalue 5 VH')"
   ]
  },
  {
   "cell_type": "code",
   "execution_count": null,
   "metadata": {
    "collapsed": true
   },
   "outputs": [],
   "source": [
    "# plot one image from each of the two variables into a subplot for direct comparison.\n",
    "import numpy as np\n",
    "\n",
    "%matplotlib inline\n",
    "from matplotlib import pyplot as plt\n",
    "from matplotlib import colors\n",
    "\n",
    "f, axarr = plt.subplots(1, 4, sharey=True, sharex=True)\n",
    "f.set_figheight(7)\n",
    "f.set_figwidth(15)\n",
    "# orient the data correctly, since netcdf has a different representation of the spatial coordinates.\n",
    "axarr[0].imshow(np.flipud(np.rot90(eigenRatios_vv[:,:,0])), cmap='jet',vmin=0.0, vmax=1.)\n",
    "axarr[0].set_title('lambda_1/sum(lambda)')\n",
    "axarr[1].imshow(np.flipud(np.rot90(eigenRatios_vv[:,:,1])), cmap='jet',vmin=0.0, vmax=3.)\n",
    "axarr[1].set_title('lambda_1/lambda_2')\n",
    "axarr[2].imshow(np.flipud(np.rot90(eigenRatios_vv[:,:,2])), cmap='jet',vmin=0.0, vmax=3.)\n",
    "axarr[2].set_title('lambda_2/lambda_3')\n",
    "axarr[3].imshow(np.flipud(np.rot90(eigenRatios_vv[:,:,3])), cmap='jet',vmin=0.0, vmax=1.)\n",
    "axarr[3].set_title('(lambda_1-lambda_2)/(lambda_1+lambda_2)')"
   ]
  },
  {
   "cell_type": "code",
   "execution_count": null,
   "metadata": {
    "collapsed": true
   },
   "outputs": [],
   "source": [
    "# plot one image from each of the two variables into a subplot for direct comparison.\n",
    "import numpy as np\n",
    "\n",
    "%matplotlib inline\n",
    "from matplotlib import pyplot as plt\n",
    "from matplotlib import colors\n",
    "\n",
    "f, axarr = plt.subplots(1, 4, sharey=True, sharex=True)\n",
    "f.set_figheight(7)\n",
    "f.set_figwidth(15)\n",
    "# orient the data correctly, since netcdf has a different representation of the spatial coordinates.\n",
    "axarr[0].imshow(np.flipud(np.rot90(eigenRatios_vh[:,:,0])), cmap='jet',vmin=0.0, vmax=1.)\n",
    "axarr[0].set_title('lambda_1/sum(lambda)')\n",
    "axarr[1].imshow(np.flipud(np.rot90(eigenRatios_vh[:,:,1])), cmap='jet',vmin=0.0, vmax=3.)\n",
    "axarr[1].set_title('lambda_1/lambda_2')\n",
    "axarr[2].imshow(np.flipud(np.rot90(eigenRatios_vh[:,:,2])), cmap='jet',vmin=0.0, vmax=3.)\n",
    "axarr[2].set_title('lambda_2/lambda_3')\n",
    "axarr[3].imshow(np.flipud(np.rot90(eigenRatios_vh[:,:,3])), cmap='jet',vmin=0.0, vmax=1.)\n",
    "axarr[3].set_title('(lambda_1-lambda_2)/(lambda_1+lambda_2)')"
   ]
  },
  {
   "cell_type": "code",
   "execution_count": null,
   "metadata": {
    "collapsed": true,
    "scrolled": true
   },
   "outputs": [],
   "source": [
    "import os\n",
    "from geo_utils import write_geotiff\n",
    "\n",
    "\n",
    "\n",
    "eigenValuesVV_file = os.path.join(odir,selSet+'_'+ dateTAG +'_eigValuesVV.tiff')\n",
    "write_geotiff(eigenValuesVV_file, np.flipud(np.rot90(eigenValues_vv)), geo_transf, geo_proj)\n",
    "#write_geotiff(eigenValuesVV_file, eigenValues_vv, geo_transf, geo_proj)\n",
    "\n",
    "eigenValuesVH_file = os.path.join(odir,selSet+'_'+ dateTAG +'_eigValuesVH.tiff')\n",
    "write_geotiff(eigenValuesVH_file, np.flipud(np.rot90(eigenValues_vh)), geo_transf, geo_proj)\n",
    "#write_geotiff(eigenValuesVH_file, eigenValues_vh, geo_transf, geo_proj)\n",
    "\n",
    "ratioVV_file = os.path.join(odir,selSet+'_' + dateTAG +'_eigRatiosVV.tiff')\n",
    "write_geotiff(ratioVV_file, np.flipud(np.rot90(eigenRatios_vv)), geo_transf, geo_proj)\n",
    "#write_geotiff(ratioVV_file, eigenRatios_vv, geo_transf, geo_proj)\n",
    "\n",
    "ratioVH_file = os.path.join(odir,selSet+'_'+ dateTAG +'_eigRatiosVH.tiff')\n",
    "write_geotiff(ratioVH_file, np.flipud(np.rot90(eigenRatios_vh)), geo_transf, geo_proj)\n",
    "#write_geotiff(ratioVH_file, eigenRatios_vh, geo_transf, geo_proj)\n"
   ]
  }
 ],
 "metadata": {
  "kernelspec": {
   "display_name": "Python 3",
   "language": "python",
   "name": "python3"
  },
  "language_info": {
   "codemirror_mode": {
    "name": "ipython",
    "version": 3
   },
   "file_extension": ".py",
   "mimetype": "text/x-python",
   "name": "python",
   "nbconvert_exporter": "python",
   "pygments_lexer": "ipython3",
   "version": "3.6.4"
  }
 },
 "nbformat": 4,
 "nbformat_minor": 2
}
